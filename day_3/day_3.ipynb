{
 "cells": [
  {
   "cell_type": "code",
   "execution_count": 1,
   "id": "ecba7f3f",
   "metadata": {},
   "outputs": [
    {
     "name": "stdout",
     "output_type": "stream",
     "text": [
      "Addition:  3\n",
      "Subtraction:  1\n",
      "Multiplication:  6\n",
      "Division:  2.0\n",
      "Divsion:  3.0\n",
      "Division:  3.5\n",
      "Division without the remainder:  3\n",
      "Division without the remainder:  2\n",
      "Modulus:  1\n",
      "Exponentiation:  8\n"
     ]
    }
   ],
   "source": [
    "# Arithmetic operations in pyhton\n",
    "# Integers\n",
    "\n",
    "print('Addition: ', 1 + 2)\n",
    "print('Subtraction: ', 2 - 1)\n",
    "print('Multiplication: ', 2 * 3)\n",
    "print('Division: ', 4 / 2)\n",
    "print('Divsion: ', 6 / 2)\n",
    "print('Division: ', 7 / 2)\n",
    "print('Division without the remainder: ', 7 // 2)\n",
    "print('Division without the remainder: ', 7 // 3)\n",
    "print('Modulus: ', 3 % 2)\n",
    "print('Exponentiation: ', 2 ** 3)"
   ]
  },
  {
   "cell_type": "code",
   "execution_count": 2,
   "id": "fd5423b9",
   "metadata": {},
   "outputs": [
    {
     "name": "stdout",
     "output_type": "stream",
     "text": [
      "Floating Point Number, PI 3.14\n",
      "Floating Point Number, gravity 9.81\n"
     ]
    }
   ],
   "source": [
    "# Floating numbers\n",
    "\n",
    "print('Floating Point Number, PI', 3.14)\n",
    "print('Floating Point Number, gravity', 9.81)"
   ]
  },
  {
   "cell_type": "code",
   "execution_count": 3,
   "id": "db58bf8e",
   "metadata": {},
   "outputs": [
    {
     "name": "stdout",
     "output_type": "stream",
     "text": [
      "Complex Number:  (1+1j)\n",
      "Multiplying complex numbers:  (2+0j)\n"
     ]
    }
   ],
   "source": [
    "# Complex numbers\n",
    "\n",
    "print('Complex Number: ', 1 + 1j)\n",
    "print('Multiplying complex numbers: ', (1 + 1j) * (1 - 1j))"
   ]
  },
  {
   "cell_type": "code",
   "execution_count": 6,
   "id": "0ea21a24",
   "metadata": {},
   "outputs": [
    {
     "name": "stdout",
     "output_type": "stream",
     "text": [
      "5\n",
      "a + b =  5\n",
      "a - b =  1\n",
      "a * b =  6\n",
      "a / b =  1.5\n",
      "a % b =  1\n",
      "a // b =  1\n",
      "a ** b =  9\n"
     ]
    }
   ],
   "source": [
    "a = 3\n",
    "b = 2\n",
    "#Arethmetic operations and assigning the result to a variable\n",
    "total = a + b\n",
    "diff = a - b\n",
    "product = a * b\n",
    "division = a / b\n",
    "remainder = a % b\n",
    "floor_division = a // b\n",
    "exponential = a ** b\n",
    "\n",
    "print(total)\n",
    "print('a + b = ', total)\n",
    "print('a - b = ', diff)\n",
    "print('a * b = ', product)\n",
    "print('a / b = ', division)\n",
    "print('a % b = ', remainder)\n",
    "print('a // b = ', floor_division)\n",
    "print('a ** b = ', exponential)\n",
    "\n"
   ]
  },
  {
   "cell_type": "code",
   "execution_count": 7,
   "id": "eb9e0284",
   "metadata": {},
   "outputs": [
    {
     "name": "stdout",
     "output_type": "stream",
     "text": [
      "== Addition, Subtraction, Multiplication, Division, Modulus ==\n",
      "total:  7\n",
      "diff  -1\n",
      "product  12\n",
      "division  0.75\n",
      "remainder:  3\n"
     ]
    }
   ],
   "source": [
    "print('== Addition, Subtraction, Multiplication, Division, Modulus ==')\n",
    "\n",
    "num_one = 3\n",
    "num_two = 4\n",
    "\n",
    "# Arethmetic operations\n",
    "total = num_one + num_two\n",
    "diff = num_one - num_two\n",
    "product = num_one * num_two\n",
    "division = num_one / num_two\n",
    "remainder = num_one % num_two\n",
    "\n",
    "# Printing values with labels\n",
    "print('total: ', total)\n",
    "print('diff ', diff)\n",
    "print('product ', product)\n",
    "print('division ', division)\n",
    "print('remainder: ', remainder)\n",
    "\n",
    "\n",
    "\n",
    "\n"
   ]
  },
  {
   "cell_type": "code",
   "execution_count": null,
   "id": "2d40d28a",
   "metadata": {},
   "outputs": [
    {
     "name": "stdout",
     "output_type": "stream",
     "text": [
      "Area of a circle: 314.0\n",
      "Area of rectangle: 200\n",
      "735.75 N\n",
      "1000.0\n"
     ]
    }
   ],
   "source": [
    "# Calculating area of circle\n",
    "radius = 10\n",
    "area_of_circle = 3.14 * radius ** 2\n",
    "print(\"Area of a circle:\", area_of_circle)\n",
    "\n",
    "# Calculating area of a rectangle\n",
    "length = 10\n",
    "width = 20\n",
    "area_of_rectangle = length * width\n",
    "print(\"Area of rectangle:\", area_of_rectangle)\n",
    "\n",
    "# Calculating a weight of a object\n",
    "\n",
    "mass = 75\n",
    "gravity = 9.81\n",
    "weight = mass * gravity\n",
    "print(weight, 'N') # Adding unit to the weight\n",
    "\n",
    "# Calculating the density of a liquid\n",
    "mass = 75 # in kg\n",
    "volume = 0.075 # in cubic meter\n",
    "density = mass / volume # 1000 Kg^3\n",
    "print(density)"
   ]
  },
  {
   "cell_type": "code",
   "execution_count": 15,
   "id": "dd56c5d8",
   "metadata": {},
   "outputs": [
    {
     "name": "stdout",
     "output_type": "stream",
     "text": [
      "True\n",
      "True\n",
      "False\n",
      "True\n",
      "False\n",
      "False\n",
      "True\n",
      "False\n",
      "True\n",
      "True\n",
      "False\n",
      "True\n",
      "True\n",
      "False\n"
     ]
    }
   ],
   "source": [
    "# Example - comparison operators\n",
    "\n",
    "print(3 > 2)\n",
    "print(3 >= 2)\n",
    "print(3 < 2)\n",
    "print(2 < 3)\n",
    "print(3 <= 2)\n",
    "print(3 == 2)\n",
    "print(3 != 2)\n",
    "print(len('mango') == len('avocado'))\n",
    "print(len('mango') != len('avocado'))\n",
    "print(len('mango') < len('avocado'))\n",
    "print(len('milk') != len('meat'))\n",
    "print(len('milk') == len('meat'))\n",
    "print(len('tomato') == len('potato'))\n",
    "print(len('tomato') > len('dragon'))"
   ]
  },
  {
   "cell_type": "code",
   "execution_count": 17,
   "id": "8634eaf1",
   "metadata": {},
   "outputs": [
    {
     "name": "stdout",
     "output_type": "stream",
     "text": [
      "True == True:  True\n",
      "True == False  False\n",
      "False == False  True\n"
     ]
    }
   ],
   "source": [
    "print('True == True: ', True == True)\n",
    "print('True == False ', True == False)\n",
    "print('False == False ', False == False)"
   ]
  },
  {
   "cell_type": "code",
   "execution_count": 24,
   "id": "9d97aa76",
   "metadata": {},
   "outputs": [
    {
     "name": "stdout",
     "output_type": "stream",
     "text": [
      "1 is 1 True\n",
      "1 is 2 True\n",
      "A in Asabeneh True\n",
      "B in Asabeneh False\n",
      "True\n",
      "a in an: True\n",
      "4 is 2 ** 2: True\n"
     ]
    },
    {
     "name": "stderr",
     "output_type": "stream",
     "text": [
      "<>:1: SyntaxWarning: \"is\" with 'int' literal. Did you mean \"==\"?\n",
      "<>:2: SyntaxWarning: \"is not\" with 'int' literal. Did you mean \"!=\"?\n",
      "<>:7: SyntaxWarning: \"is\" with 'int' literal. Did you mean \"==\"?\n",
      "<>:1: SyntaxWarning: \"is\" with 'int' literal. Did you mean \"==\"?\n",
      "<>:2: SyntaxWarning: \"is not\" with 'int' literal. Did you mean \"!=\"?\n",
      "<>:7: SyntaxWarning: \"is\" with 'int' literal. Did you mean \"==\"?\n",
      "C:\\Users\\ricka\\AppData\\Local\\Temp\\ipykernel_6816\\481796624.py:1: SyntaxWarning: \"is\" with 'int' literal. Did you mean \"==\"?\n",
      "  print('1 is 1', 1 is 1)\n",
      "C:\\Users\\ricka\\AppData\\Local\\Temp\\ipykernel_6816\\481796624.py:2: SyntaxWarning: \"is not\" with 'int' literal. Did you mean \"!=\"?\n",
      "  print('1 is 2', 1 is not 2)\n",
      "C:\\Users\\ricka\\AppData\\Local\\Temp\\ipykernel_6816\\481796624.py:7: SyntaxWarning: \"is\" with 'int' literal. Did you mean \"==\"?\n",
      "  print('4 is 2 ** 2:', 4 is 2 ** 2)\n"
     ]
    }
   ],
   "source": [
    "print('1 is 1', 1 is 1)\n",
    "print('1 is 2', 1 is not 2)\n",
    "print('A in Asabeneh', 'A' in 'Asabeneh')\n",
    "print('B in Asabeneh', 'B' in 'Asabeneh')\n",
    "print('coding' in 'coding for all')\n",
    "print('a in an:', 'a' in 'an')\n",
    "print('4 is 2 ** 2:', 4 is 2 ** 2)"
   ]
  },
  {
   "cell_type": "code",
   "execution_count": 25,
   "id": "b539be1d",
   "metadata": {},
   "outputs": [
    {
     "name": "stdout",
     "output_type": "stream",
     "text": [
      "True\n",
      "False\n",
      "False\n",
      "True and True:  True\n",
      "True\n",
      "True\n",
      "True\n",
      "True or False: True\n",
      "False\n",
      "False\n",
      "True\n",
      "True\n",
      "False\n"
     ]
    }
   ],
   "source": [
    "print(3 > 2 and 4 > 3)\n",
    "print(3 > 2 and 4 < 3)\n",
    "print(3 < 2 and 4 < 3)\n",
    "print('True and True: ', True and True)\n",
    "print(3 > 2 or 4 > 3)\n",
    "print(3 > 2 or 4 < 3)\n",
    "print(3 > 2 or 4 < 3)\n",
    "print('True or False:', True or False)\n",
    "print(not 3 > 2)\n",
    "print(not True)\n",
    "print(not False)\n",
    "print(not not True)\n",
    "print(not not False)\n",
    "\n"
   ]
  },
  {
   "cell_type": "code",
   "execution_count": 35,
   "id": "9b9f3ecd",
   "metadata": {},
   "outputs": [
    {
     "name": "stdout",
     "output_type": "stream",
     "text": [
      "The area of the triangel is: 20.0\n"
     ]
    }
   ],
   "source": [
    "age = 35\n",
    "height = 176.5\n",
    "name = 1 + 1j\n",
    "\n",
    "base = float(input(\"Enter the base of a triangel: \"))\n",
    "height = float(input(\"Enter the height of a triangel: \"))\n",
    "area = 0.5 * base * height\n",
    "print(f\"The area of the triangel is: {area}\")"
   ]
  },
  {
   "cell_type": "code",
   "execution_count": 37,
   "id": "27fde6b6",
   "metadata": {},
   "outputs": [
    {
     "name": "stdout",
     "output_type": "stream",
     "text": [
      "The perimeter of the triangle is 12.0\n"
     ]
    }
   ],
   "source": [
    "a = float(input(\"Enter side a: \"))\n",
    "b = float(input(\"Enter side b: \"))\n",
    "c = float(input(\"Enter side c: \"))\n",
    "print(\"The perimeter of the triangle is\", a + b + c)"
   ]
  },
  {
   "cell_type": "code",
   "execution_count": 38,
   "id": "f1a810ef",
   "metadata": {},
   "outputs": [
    {
     "name": "stdout",
     "output_type": "stream",
     "text": [
      "100.0\n",
      "30.0\n"
     ]
    }
   ],
   "source": [
    "lenght = float(input(\"Enter lenght:\"))\n",
    "witdh = float(input(\"Enter witdh:\"))\n",
    "area = lenght * width\n",
    "perimeter = 2 * lenght + width\n",
    "print(area)\n",
    "print(perimeter)"
   ]
  },
  {
   "cell_type": "code",
   "execution_count": 43,
   "id": "0b46e357",
   "metadata": {},
   "outputs": [
    {
     "name": "stdout",
     "output_type": "stream",
     "text": [
      "200.96\n",
      "50.24\n"
     ]
    }
   ],
   "source": [
    "radius = float(input(\"Enter radius:\"))\n",
    "area = 3.14 * radius * radius\n",
    "circumference = 2 * 3.14 * radius\n",
    "print(area)\n",
    "print(circumference)\n",
    "\n"
   ]
  },
  {
   "cell_type": "code",
   "execution_count": 45,
   "id": "716199df",
   "metadata": {},
   "outputs": [
    {
     "name": "stdout",
     "output_type": "stream",
     "text": [
      "2.6666666666666665\n"
     ]
    }
   ],
   "source": [
    "x1 = int(input(\"Enter x1:\"))\n",
    "y1 = int(input(\"Enter y1:\"))\n",
    "x2 = int(input(\"Enter x2:\"))\n",
    "y2 = int(input(\"Enter y2:\"))\n",
    "\n",
    "slope = (y2 - y1) / (x2 / x1)\n",
    "print(slope)\n"
   ]
  },
  {
   "cell_type": "code",
   "execution_count": 2,
   "id": "9ff4b7b3",
   "metadata": {},
   "outputs": [
    {
     "name": "stdout",
     "output_type": "stream",
     "text": [
      "Slope is: 2.0\n",
      "Distance:  8.94427190999916\n"
     ]
    }
   ],
   "source": [
    "import math \n",
    "y2 = 10\n",
    "x2 = 6\n",
    "y1 = 2\n",
    "x1 = 2\n",
    "\n",
    "m = (y2 - y1) / (x2 - x1)\n",
    "distance = math.sqrt((x2 - x1)**2 + (y2 -y1)**2)\n",
    "print(\"Slope is:\", m)\n",
    "print(\"Distance: \", distance)\n",
    "\n",
    "\n"
   ]
  },
  {
   "cell_type": "code",
   "execution_count": null,
   "id": "15e4b2ca",
   "metadata": {},
   "outputs": [
    {
     "name": "stdout",
     "output_type": "stream",
     "text": [
      "x=-6, y=9\n",
      "x=-5, y=4\n",
      "x=-4, y=1\n",
      "x=-3, y=0\n",
      "x=-2, y=1\n",
      "x=-1, y=4\n",
      "x=0, y=9\n",
      "x=1, y=16\n"
     ]
    }
   ],
   "source": [
    "x = -3\n",
    "y = 0\n",
    "\n",
    "def f(x):\n",
    "    return x**2 + 6*x + 9\n",
    "\n",
    "for x in range(-6 , 2):\n",
    "    print(f\"x={x}, y={f(x)}\")\n",
    "\n"
   ]
  },
  {
   "cell_type": "code",
   "execution_count": 9,
   "id": "1f48500c",
   "metadata": {},
   "outputs": [
    {
     "name": "stdout",
     "output_type": "stream",
     "text": [
      "-3\n",
      "0\n"
     ]
    }
   ],
   "source": [
    "x = -3\n",
    "y = 0\n",
    "def f(x):\n",
    "    return x**2 + 6*x + 9\n",
    "print(x)\n",
    "print(y)"
   ]
  },
  {
   "cell_type": "code",
   "execution_count": 16,
   "id": "88f0987b",
   "metadata": {},
   "outputs": [
    {
     "name": "stdout",
     "output_type": "stream",
     "text": [
      "False\n"
     ]
    }
   ],
   "source": [
    "print(len('Python') != len('Dragon'))"
   ]
  },
  {
   "cell_type": "code",
   "execution_count": 21,
   "id": "e7007e31",
   "metadata": {},
   "outputs": [
    {
     "name": "stdout",
     "output_type": "stream",
     "text": [
      "True\n"
     ]
    }
   ],
   "source": [
    "print('on in dragon' and 'on' in 'python')"
   ]
  },
  {
   "cell_type": "code",
   "execution_count": 23,
   "id": "2f5f522a",
   "metadata": {},
   "outputs": [
    {
     "name": "stdout",
     "output_type": "stream",
     "text": [
      "True\n"
     ]
    }
   ],
   "source": [
    "sentence = 'I hope this course is not full of jargon'\n",
    "print('jargon' in sentence)"
   ]
  },
  {
   "cell_type": "code",
   "execution_count": 26,
   "id": "ec1f5eb3",
   "metadata": {},
   "outputs": [
    {
     "name": "stdout",
     "output_type": "stream",
     "text": [
      "True\n"
     ]
    }
   ],
   "source": [
    "print('on' in 'python' and 'on' in 'dragon')"
   ]
  },
  {
   "cell_type": "code",
   "execution_count": 31,
   "id": "0b0b6b2a",
   "metadata": {},
   "outputs": [
    {
     "name": "stdout",
     "output_type": "stream",
     "text": [
      "6.0\n"
     ]
    }
   ],
   "source": [
    "text = 'Python'\n",
    "\n",
    "lenght = len(text)\n",
    "lenght_float = float(lenght)\n",
    "lenght_str = str(lenght_float)\n",
    "\n",
    "print(lenght_str)"
   ]
  },
  {
   "cell_type": "code",
   "execution_count": 33,
   "id": "13a3acd2",
   "metadata": {},
   "outputs": [
    {
     "name": "stdout",
     "output_type": "stream",
     "text": [
      "8 is even\n"
     ]
    }
   ],
   "source": [
    "num = 8\n",
    "\n",
    "if num % 2 == 0:\n",
    "    print(num, \"is even\")\n",
    "else:\n",
    "    print(num, \"is odd\")\n",
    "\n"
   ]
  },
  {
   "cell_type": "code",
   "execution_count": null,
   "id": "0654e813",
   "metadata": {},
   "outputs": [
    {
     "name": "stdout",
     "output_type": "stream",
     "text": [
      "True\n",
      "False\n",
      "False\n"
     ]
    }
   ],
   "source": [
    "floor_division = 7 // 3\n",
    "print(int(floor_division) == floor_division)\n",
    "\n",
    "print(type('10') == type(10))\n",
    "\n",
    "num = 9.8\n",
    "print(int(num) == 10)\n",
    "\n",
    "\n",
    "\n"
   ]
  },
  {
   "cell_type": "code",
   "execution_count": 53,
   "id": "b7ed4af5",
   "metadata": {},
   "outputs": [
    {
     "name": "stdout",
     "output_type": "stream",
     "text": [
      "Your weekly earnings are:  1120\n"
     ]
    }
   ],
   "source": [
    "# Write a script that prompts the user to enter hours and rate per hour. Calculate pay of the person?\n",
    "# Enter hours: 40\n",
    "# Enter rate per hour: 28\n",
    "# Your weekly earning is 1120\n",
    "\n",
    "hours = int(input('How man hours do you work? '))\n",
    "rate_ph = int(input('Enter rate per hour: '))\n",
    "\n",
    "weekly_earning = hours * rate_ph\n",
    "print(f\"Your weekly earnings are: \", weekly_earning)"
   ]
  },
  {
   "cell_type": "code",
   "execution_count": 61,
   "id": "0f318e73",
   "metadata": {},
   "outputs": [
    {
     "name": "stdout",
     "output_type": "stream",
     "text": [
      "Your life expectancy is  3153600000 seconds\n"
     ]
    }
   ],
   "source": [
    "# Write a script that prompts the user to enter number of years.\n",
    "# Calculate the number of seconds a person can live. Assume a person can live hundred years.\n",
    "\n",
    "years = int(input('Enter years: '))\n",
    "seconds_per_year = (60 * 60) * 24 * 365\n",
    "lifespan = years * seconds_per_year\n",
    "print(\"Your life expectancy is \", lifespan, 'seconds')"
   ]
  },
  {
   "cell_type": "markdown",
   "id": "8a1198fb",
   "metadata": {},
   "source": [
    "# 23. Write a Python script that displays the following table\n",
    "\n",
    "```py\n",
    "1 1 1 1 1\n",
    "2 1 2 4 8\n",
    "3 1 3 9 27\n",
    "4 1 4 16 64\n",
    "5 1 5 25 125\n",
    "```"
   ]
  },
  {
   "cell_type": "code",
   "execution_count": 70,
   "id": "5fa06d25",
   "metadata": {},
   "outputs": [
    {
     "name": "stdout",
     "output_type": "stream",
     "text": [
      "1 1 1 1 1\n",
      "2 1 2 4 8\n",
      "3 1 3 9 27\n",
      "4 1 4 16 64\n",
      "5 1 5 25 125\n"
     ]
    }
   ],
   "source": [
    "# antal rader\n",
    "rows = 5\n",
    "\n",
    "for i in range(1, rows + 1):\n",
    "    # första kolumnen = i\n",
    "    # andra kolumnen = 1\n",
    "    # tredje kolumnen = i^1\n",
    "    # fjärde kolumnen = i^2\n",
    "    # femte kolumnen = i^3\n",
    "    print(i, 1, i, i**2, i**3)"
   ]
  }
 ],
 "metadata": {
  "kernelspec": {
   "display_name": "day_3",
   "language": "python",
   "name": "python3"
  },
  "language_info": {
   "codemirror_mode": {
    "name": "ipython",
    "version": 3
   },
   "file_extension": ".py",
   "mimetype": "text/x-python",
   "name": "python",
   "nbconvert_exporter": "python",
   "pygments_lexer": "ipython3",
   "version": "3.12.10"
  }
 },
 "nbformat": 4,
 "nbformat_minor": 5
}
