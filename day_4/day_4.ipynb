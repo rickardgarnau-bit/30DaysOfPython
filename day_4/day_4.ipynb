{
 "cells": [
  {
   "cell_type": "markdown",
   "id": "98dcde00",
   "metadata": {},
   "source": [
    "# Strings\n",
    "Text is a string data type. Any data type written as text is a string. Any data under single, double or triple quote are strings. There are different string methods and built-in functions to deal with string data types. To check the length of a string use the len() method."
   ]
  },
  {
   "cell_type": "markdown",
   "id": "2629701a",
   "metadata": {},
   "source": [
    "## Creating a String"
   ]
  },
  {
   "cell_type": "code",
   "execution_count": 1,
   "id": "945c40ed",
   "metadata": {},
   "outputs": [
    {
     "name": "stdout",
     "output_type": "stream",
     "text": [
      "P\n",
      "1\n",
      "Hello, World!\n",
      "13\n",
      "I hope you are enjoying 30 days of Python\n"
     ]
    }
   ],
   "source": [
    "letter = 'P'\n",
    "print(letter)\n",
    "print(len(letter))\n",
    "greeting = 'Hello, World!'\n",
    "print(greeting)\n",
    "print(len(greeting))\n",
    "sentence = \"I hope you are enjoying 30 days of Python\"\n",
    "print(sentence)"
   ]
  },
  {
   "cell_type": "markdown",
   "id": "0463a14f",
   "metadata": {},
   "source": [
    "#### Multiline string is created by using triple single (''') or triple double quotes (\"\"\"). See the example below."
   ]
  },
  {
   "cell_type": "code",
   "execution_count": null,
   "id": "d7af02d3",
   "metadata": {},
   "outputs": [
    {
     "name": "stdout",
     "output_type": "stream",
     "text": [
      "I am a teacher and enjoy teaching.\n",
      "I didn't find anything as rewarding as empowering people.\n",
      "That is why I created 30 days of python\n"
     ]
    }
   ],
   "source": [
    "multiline_string = '''I am a teacher and enjoy teaching.\n",
    "I didn't find anything as rewarding as empowering people.\n",
    "That is why I created 30 days of python'''\n",
    "print(multiline_string)\n",
    "\n",
    "multiline_string = \"\"\"I am a teacher and enjoy teaching.\n",
    "I didn't find anything as rewarding as empowering people.\n",
    "That is why I created 30 days of python\"\"\""
   ]
  },
  {
   "cell_type": "markdown",
   "id": "b5183591",
   "metadata": {},
   "source": [
    "##### Escape Sequences in Strings\n",
    "In Python and other programming languages \\ followed by a character is an escape sequence. Let us see the most common escape characters:\n",
    "\n",
    "\\n: new line\n",
    "\\t: Tab means(8 spaces)\n",
    "\\\\: Back slash\n",
    "\\': Single quote (')\n",
    "\\\": Double quote (\")\n",
    "Now, let us see the use of the above escape sequences with examples."
   ]
  },
  {
   "cell_type": "code",
   "execution_count": 7,
   "id": "87ba1095",
   "metadata": {},
   "outputs": [
    {
     "name": "stdout",
     "output_type": "stream",
     "text": [
      "I hope everyone is enjoying the python challenge. \n",
      "Are you ?\n",
      "Days\tTopics\tExercises\n",
      "Day 1\t5\t5\n",
      "Day 2\t6\t20\n",
      "Day 3\t5\t23\n",
      "Day 4\t1\t35\n"
     ]
    }
   ],
   "source": [
    "print('I hope everyone is enjoying the python challenge. \\nAre you ?')\n",
    "print('Days\\tTopics\\tExercises')\n",
    "print('Day 1\\t5\\t5')\n",
    "print('Day 2\\t6\\t20')\n",
    "print('Day 3\\t5\\t23')\n",
    "print('Day 4\\t1\\t35')"
   ]
  },
  {
   "cell_type": "markdown",
   "id": "db8d4a70",
   "metadata": {},
   "source": [
    "### String formatting\n",
    "\n",
    "#### Old Style String Formatting (% Operator)\n",
    "\n",
    "In Python there are many ways of formatting strings. In this section, we will cover some of them.\n",
    "The \"%\" operator is used to format a set of variables enclosed in a \"tuple\" (a fixed size list), together with a format string, which contains normal text together with \"argument specifiers\", special symbols like \"%s\", \"%d\", \"%f\", \"%.<small>number of digits</small>f\".\n",
    "\n",
    "%s - String (or any object with a string representation, like numbers)\n",
    "%d - Integers\n",
    "%f - Floating point numbers\n",
    "\"%.number of digitsf\" - Floating point numbers with fixed precision\n",
    "\n"
   ]
  },
  {
   "cell_type": "code",
   "execution_count": 10,
   "id": "31ff1b47",
   "metadata": {},
   "outputs": [
    {
     "name": "stdout",
     "output_type": "stream",
     "text": [
      "I am Asabeneh Yetayeh. I teach Python\n",
      "The following are python libraries:['Django', 'Flask', 'NumPy', 'Matplotlib', 'Pandas']\n"
     ]
    }
   ],
   "source": [
    "# Strings only\n",
    "first_name = 'Asabeneh'\n",
    "last_name = 'Yetayeh'\n",
    "language = 'Python'\n",
    "formated_string = 'I am %s %s. I teach %s' %(first_name, last_name, language)\n",
    "print(formated_string)\n",
    "\n",
    "# Strings and numbers\n",
    "radius = 10\n",
    "pi = 3.14\n",
    "area = pi * radius ** 2\n",
    "formated_string = 'The area of a circle with a radius %d is %.2f.' %(radius, area)\n",
    "\n",
    "python_libraries = ['Django', 'Flask', 'NumPy', 'Matplotlib', 'Pandas']\n",
    "formated_string = 'The following are python libraries:%s' % (python_libraries)\n",
    "print(formated_string)"
   ]
  },
  {
   "cell_type": "markdown",
   "id": "543906cb",
   "metadata": {},
   "source": [
    "#### New Style String Formatting (str.format)"
   ]
  },
  {
   "cell_type": "code",
   "execution_count": 11,
   "id": "eb0a71a7",
   "metadata": {},
   "outputs": [
    {
     "name": "stdout",
     "output_type": "stream",
     "text": [
      "I am Asabeneh Yetayeh. I teach Python\n"
     ]
    }
   ],
   "source": [
    "first_name = 'Asabeneh'\n",
    "last_name = 'Yetayeh'\n",
    "language = 'Python'\n",
    "formated_string = 'I am {} {}. I teach {}'.format(first_name, last_name, language)\n",
    "print(formated_string)"
   ]
  },
  {
   "cell_type": "code",
   "execution_count": 13,
   "id": "e46e9eb8",
   "metadata": {},
   "outputs": [
    {
     "name": "stdout",
     "output_type": "stream",
     "text": [
      "4 + 3 = 7\n",
      "4 - 3 = 1\n",
      "4 * 3 = 12\n",
      "4 / 3 = 1.33\n",
      "4 % 3 = 1\n",
      "4 // 3 = 1\n",
      "4 ** 3 = 64\n"
     ]
    }
   ],
   "source": [
    "a = 4\n",
    "b = 3\n",
    "print('{} + {} = {}'.format(a, b, a + b))\n",
    "print('{} - {} = {}'.format(a, b, a - b))\n",
    "print('{} * {} = {}'.format(a, b, a * b))\n",
    "print('{} / {} = {:.2f}'.format(a, b, a / b))\n",
    "print('{} % {} = {}'.format(a, b, a % b))\n",
    "print('{} // {} = {}'.format(a, b, a // b))\n",
    "print('{} ** {} = {}'.format(a, b, a ** b))\n"
   ]
  },
  {
   "cell_type": "code",
   "execution_count": 15,
   "id": "639c7ee8",
   "metadata": {},
   "outputs": [
    {
     "name": "stdout",
     "output_type": "stream",
     "text": [
      "The area of a circle with a radius 10 is 314.00.\n"
     ]
    }
   ],
   "source": [
    "# Strings and numbers\n",
    "\n",
    "radius = 10\n",
    "pi = 3.14\n",
    "area = pi * radius ** 2\n",
    "formated_string = 'The area of a circle with a radius {} is {:.2f}.'.format(radius, area)\n",
    "print(formated_string)"
   ]
  },
  {
   "cell_type": "markdown",
   "id": "69041db4",
   "metadata": {},
   "source": [
    "#### String Interpolation / f-Strings (Python 3.6+)\n",
    "Another new string formatting is string interpolation, f-strings. Strings start with f and we can inject the data in their corresponding positions."
   ]
  },
  {
   "cell_type": "code",
   "execution_count": 18,
   "id": "e7816c1a",
   "metadata": {},
   "outputs": [
    {
     "name": "stdout",
     "output_type": "stream",
     "text": [
      "4 + 3 = 7\n",
      "4 - 3 = 1\n",
      "4 * 3 = 12\n",
      "4 / 3 = 1.33\n",
      "4 % 3 = 1\n",
      "4 // 3 = 1\n",
      "4 ** 3 = 64\n"
     ]
    }
   ],
   "source": [
    "a = 4\n",
    "b = 3\n",
    "print(f'{a} + {b} = {a + b}')\n",
    "print(f'{a} - {b} = {a - b}')\n",
    "print(f'{a} * {b} = {a * b}')\n",
    "print(f'{a} / {b} = {a / b:.2f}')\n",
    "print(f'{a} % {b} = {a % b}')\n",
    "print(f'{a} // {b} = {a // b}')\n",
    "print(f'{a} ** {b} = {a ** b}')\n"
   ]
  },
  {
   "cell_type": "markdown",
   "id": "27c1a2d4",
   "metadata": {},
   "source": [
    "### Python Strings as Sequences of Characters\n",
    "Python strings are sequences of characters, and share their basic methods of access with other Python ordered sequences of objects – lists and tuples. The simplest way of extracting single characters from strings (and individual members from any sequence) is to unpack them into corresponding variables."
   ]
  },
  {
   "cell_type": "code",
   "execution_count": 20,
   "id": "d10a2f6b",
   "metadata": {},
   "outputs": [
    {
     "name": "stdout",
     "output_type": "stream",
     "text": [
      "P\n",
      "y\n",
      "t\n",
      "h\n",
      "o\n",
      "n\n"
     ]
    }
   ],
   "source": [
    "language = 'Python'\n",
    "a,b,c,d,e,f = language\n",
    "print(a)\n",
    "print(b)\n",
    "print(c)\n",
    "print(d)\n",
    "print(e)\n",
    "print(f)\n"
   ]
  },
  {
   "cell_type": "markdown",
   "id": "53d34334",
   "metadata": {},
   "source": [
    "#### Accessing Characters in Strings by Index\n",
    "\n",
    "In programming counting starts from zero. Therefore the first letter of a string is at zero index and the last letter of a string is the length of a string minus one.\n",
    "\n",
    "![String index](../images/string_index.png)\n"
   ]
  },
  {
   "cell_type": "code",
   "execution_count": 21,
   "id": "1280cf57",
   "metadata": {},
   "outputs": [
    {
     "name": "stdout",
     "output_type": "stream",
     "text": [
      "P\n",
      "y\n",
      "n\n"
     ]
    }
   ],
   "source": [
    "language = 'Python'\n",
    "first_letter = language[0]\n",
    "print(first_letter)\n",
    "second_letter = language[1]\n",
    "print(second_letter)\n",
    "last_index = len(language) -1\n",
    "last_letter = language[last_index]\n",
    "print(last_letter)\n"
   ]
  },
  {
   "cell_type": "markdown",
   "id": "14f1f2eb",
   "metadata": {},
   "source": [
    "#### Slicing Python Strings\n",
    "In python we can slice strings into substrings."
   ]
  },
  {
   "cell_type": "code",
   "execution_count": 22,
   "id": "bea4f598",
   "metadata": {},
   "outputs": [
    {
     "name": "stdout",
     "output_type": "stream",
     "text": [
      "Pyt\n",
      "hon\n",
      "hon\n"
     ]
    }
   ],
   "source": [
    "language = 'Python'\n",
    "first_three = language[0:3]\n",
    "print(first_three)\n",
    "last_three = language[3:6]\n",
    "print(last_three)\n",
    "#Another way\n",
    "last_three = language[-3:]\n",
    "print(last_three)\n",
    "last_three = language[3:]\n"
   ]
  },
  {
   "cell_type": "markdown",
   "id": "d64cc59e",
   "metadata": {},
   "source": [
    "#### Reversing a String\n",
    "We can easily reverse strings in python.s"
   ]
  },
  {
   "cell_type": "code",
   "execution_count": 23,
   "id": "26ef7b6e",
   "metadata": {},
   "outputs": [
    {
     "name": "stdout",
     "output_type": "stream",
     "text": [
      "!dlroW ,olleH\n"
     ]
    }
   ],
   "source": [
    "greeting = 'Hello, World!'\n",
    "print(greeting[::-1])"
   ]
  },
  {
   "cell_type": "markdown",
   "id": "9500c1bb",
   "metadata": {},
   "source": [
    "#### Skipping Characters While Slicing\n",
    "It is possible to skip characters while slicing by passing step argument to slice method."
   ]
  },
  {
   "cell_type": "code",
   "execution_count": 24,
   "id": "bc3f3f62",
   "metadata": {},
   "outputs": [
    {
     "name": "stdout",
     "output_type": "stream",
     "text": [
      "Pto\n"
     ]
    }
   ],
   "source": [
    "language = 'Python'\n",
    "pto = language[0:6:2]\n",
    "print(pto)"
   ]
  },
  {
   "cell_type": "markdown",
   "id": "8e68da06",
   "metadata": {},
   "source": [
    "#### String Methods\n",
    "There are many string methods which allow us to format strings. See some of the string methods in the following example:\n",
    "\n",
    "capitalize(): Converts the first character of the string to capital letter"
   ]
  },
  {
   "cell_type": "code",
   "execution_count": 25,
   "id": "be4b7521",
   "metadata": {},
   "outputs": [
    {
     "name": "stdout",
     "output_type": "stream",
     "text": [
      "Thirty days of python\n"
     ]
    }
   ],
   "source": [
    "challenge = 'thirty days of python'\n",
    "print(challenge.capitalize())"
   ]
  },
  {
   "cell_type": "code",
   "execution_count": 27,
   "id": "23006787",
   "metadata": {},
   "outputs": [
    {
     "name": "stdout",
     "output_type": "stream",
     "text": [
      "3\n",
      "1\n",
      "2\n"
     ]
    }
   ],
   "source": [
    "# count(): returns occurrences of substring in string, count(substring, start=.., end=..). The start is a starting indexing for counting and end is the last index to count.\n",
    "challenge = 'thirty days of python'\n",
    "print(challenge.count('y'))\n",
    "print(challenge.count('y', 7, 14))\n",
    "print(challenge.count('th'))"
   ]
  },
  {
   "cell_type": "code",
   "execution_count": 28,
   "id": "a9050be8",
   "metadata": {},
   "outputs": [
    {
     "name": "stdout",
     "output_type": "stream",
     "text": [
      "True\n",
      "False\n"
     ]
    }
   ],
   "source": [
    "# endswith(): Checks if a string ends with a specified ending\n",
    "challenge = 'thirty days of python'\n",
    "print(challenge.endswith('on'))\n",
    "print(challenge.endswith('tion'))\n"
   ]
  },
  {
   "cell_type": "code",
   "execution_count": 29,
   "id": "bb81eea8",
   "metadata": {},
   "outputs": [
    {
     "name": "stdout",
     "output_type": "stream",
     "text": [
      "thirty  days    of      python\n",
      "thirty    days      of        python\n"
     ]
    }
   ],
   "source": [
    "# expandtabs(): Replaces tab character with spaces, default tab size is 8. It takes tab size argument\n",
    "challenge = 'thirty\\tdays\\tof\\tpython'\n",
    "print(challenge.expandtabs())\n",
    "print(challenge.expandtabs(10))"
   ]
  },
  {
   "cell_type": "code",
   "execution_count": 31,
   "id": "6669a4fa",
   "metadata": {},
   "outputs": [
    {
     "name": "stdout",
     "output_type": "stream",
     "text": [
      "5\n",
      "0\n"
     ]
    }
   ],
   "source": [
    "# find(): Returns the index of the first occurrence of a substring, if not found returns -1\n",
    "challenge = 'thirty days of python'\n",
    "print(challenge.find('y'))\n",
    "print(challenge.find('th'))"
   ]
  },
  {
   "cell_type": "code",
   "execution_count": 32,
   "id": "9ebd43cd",
   "metadata": {},
   "outputs": [
    {
     "name": "stdout",
     "output_type": "stream",
     "text": [
      "16\n",
      "17\n"
     ]
    }
   ],
   "source": [
    "# rfind(): Returns the index of the last occurrence of a substring, if not found returns -1\n",
    "challenge = 'thirty days of python'\n",
    "print(challenge.rfind('y'))\n",
    "print(challenge.rfind('th'))"
   ]
  },
  {
   "cell_type": "code",
   "execution_count": 37,
   "id": "e5188971",
   "metadata": {},
   "outputs": [
    {
     "name": "stdout",
     "output_type": "stream",
     "text": [
      "I am Asabeneh Yetayeh. I am a teacher. I am 250 years old. I live in Finland.\n",
      "The area of a circle with radius 10 is 314.0\n"
     ]
    }
   ],
   "source": [
    "# format(): formats string into a nicer output\n",
    "first_name = 'Asabeneh'\n",
    "last_name = 'Yetayeh'\n",
    "job = 'teacher'\n",
    "age = 250\n",
    "country = 'Finland'\n",
    "sentence = 'I am {} {}. I am a {}. I am {} years old. I live in {}.'.format(first_name, last_name, job, age, country)\n",
    "print(sentence)\n",
    "\n",
    "radius = 10\n",
    "pi = 3.14\n",
    "area = pi * radius ** 2\n",
    "result = 'The area of a circle with radius {} is {}'.format(str(radius), str(area))\n",
    "print(result)\n"
   ]
  },
  {
   "cell_type": "code",
   "execution_count": 38,
   "id": "fad0ab0a",
   "metadata": {},
   "outputs": [
    {
     "name": "stdout",
     "output_type": "stream",
     "text": [
      "7\n"
     ]
    },
    {
     "ename": "ValueError",
     "evalue": "substring not found",
     "output_type": "error",
     "traceback": [
      "\u001b[31m---------------------------------------------------------------------------\u001b[39m",
      "\u001b[31mValueError\u001b[39m                                Traceback (most recent call last)",
      "\u001b[36mCell\u001b[39m\u001b[36m \u001b[39m\u001b[32mIn[38]\u001b[39m\u001b[32m, line 5\u001b[39m\n\u001b[32m      3\u001b[39m sub_string = \u001b[33m'\u001b[39m\u001b[33mda\u001b[39m\u001b[33m'\u001b[39m\n\u001b[32m      4\u001b[39m \u001b[38;5;28mprint\u001b[39m(challenge.index(sub_string))\n\u001b[32m----> \u001b[39m\u001b[32m5\u001b[39m \u001b[38;5;28mprint\u001b[39m(\u001b[43mchallenge\u001b[49m\u001b[43m.\u001b[49m\u001b[43mindex\u001b[49m\u001b[43m(\u001b[49m\u001b[43msub_string\u001b[49m\u001b[43m,\u001b[49m\u001b[43m \u001b[49m\u001b[32;43m9\u001b[39;49m\u001b[43m)\u001b[49m)\n",
      "\u001b[31mValueError\u001b[39m: substring not found"
     ]
    }
   ],
   "source": [
    "# index(): Returns the lowest index of a substring, additional arguments indicate starting and ending index (default 0 and string length - 1). If the substring is not found it raises a valueError.\n",
    "challenge = 'thirty days of python'\n",
    "sub_string = 'da'\n",
    "print(challenge.index(sub_string))\n",
    "print(challenge.index(sub_string, 9))"
   ]
  },
  {
   "cell_type": "code",
   "execution_count": 40,
   "id": "5e10725c",
   "metadata": {},
   "outputs": [
    {
     "name": "stdout",
     "output_type": "stream",
     "text": [
      "7\n"
     ]
    },
    {
     "ename": "ValueError",
     "evalue": "substring not found",
     "output_type": "error",
     "traceback": [
      "\u001b[31m---------------------------------------------------------------------------\u001b[39m",
      "\u001b[31mValueError\u001b[39m                                Traceback (most recent call last)",
      "\u001b[36mCell\u001b[39m\u001b[36m \u001b[39m\u001b[32mIn[40]\u001b[39m\u001b[32m, line 5\u001b[39m\n\u001b[32m      3\u001b[39m sub_string = \u001b[33m'\u001b[39m\u001b[33mda\u001b[39m\u001b[33m'\u001b[39m\n\u001b[32m      4\u001b[39m \u001b[38;5;28mprint\u001b[39m(challenge.rindex(sub_string))\n\u001b[32m----> \u001b[39m\u001b[32m5\u001b[39m \u001b[38;5;28mprint\u001b[39m(\u001b[43mchallenge\u001b[49m\u001b[43m.\u001b[49m\u001b[43mrindex\u001b[49m\u001b[43m(\u001b[49m\u001b[43msub_string\u001b[49m\u001b[43m,\u001b[49m\u001b[43m \u001b[49m\u001b[32;43m9\u001b[39;49m\u001b[43m)\u001b[49m)\n\u001b[32m      6\u001b[39m \u001b[38;5;28mprint\u001b[39m(challenge.rindex(\u001b[33m'\u001b[39m\u001b[33mon\u001b[39m\u001b[33m'\u001b[39m, \u001b[32m8\u001b[39m))\n",
      "\u001b[31mValueError\u001b[39m: substring not found"
     ]
    }
   ],
   "source": [
    "# rindex(): Returns the highest index of a substring, additional arguments indicate starting and ending index (default 0 and string length - 1)\n",
    "challenge = 'thirty days of python'\n",
    "sub_string = 'da'\n",
    "print(challenge.rindex(sub_string))\n",
    "print(challenge.rindex(sub_string, 9))\n",
    "print(challenge.rindex('on', 8))"
   ]
  },
  {
   "cell_type": "code",
   "execution_count": 42,
   "id": "5dd94311",
   "metadata": {},
   "outputs": [
    {
     "name": "stdout",
     "output_type": "stream",
     "text": [
      "True\n",
      "False\n"
     ]
    }
   ],
   "source": [
    "# islower(): Checks if all alphabet characters in the string are lowercase\n",
    "challenge = 'thirt days of python'\n",
    "print(challenge.islower())\n",
    "challenge = 'Thirty days of python'\n",
    "print(challenge.islower())"
   ]
  },
  {
   "cell_type": "code",
   "execution_count": 47,
   "id": "fc81149c",
   "metadata": {},
   "outputs": [
    {
     "name": "stdout",
     "output_type": "stream",
     "text": [
      "False\n",
      "True\n"
     ]
    }
   ],
   "source": [
    "# isupper(): Checks if all alphabet characters in the string are uppercase\n",
    "challenge = 'thirty days of python'\n",
    "print(challenge.isupper())\n",
    "challenge = ('THIRTY DAYS OF PYTHON')\n",
    "print(challenge.isupper())"
   ]
  },
  {
   "cell_type": "code",
   "execution_count": 49,
   "id": "83d3739a",
   "metadata": {},
   "outputs": [
    {
     "name": "stdout",
     "output_type": "stream",
     "text": [
      "HTML# CSS# JavaScript# React\n",
      "HTML CSS JavaScript React\n"
     ]
    }
   ],
   "source": [
    "# join(): Returns a concatenated string\n",
    "web_tech = ['HTML', 'CSS', 'JavaScript', 'React']\n",
    "result = '# '.join(web_tech)\n",
    "print(result)\n",
    "\n",
    "web_tech = ['HTML', 'CSS', 'JavaScript', 'React']\n",
    "result = ' '.join(web_tech)\n",
    "print(result)"
   ]
  },
  {
   "cell_type": "code",
   "execution_count": 50,
   "id": "5f50806b",
   "metadata": {},
   "outputs": [
    {
     "name": "stdout",
     "output_type": "stream",
     "text": [
      "irty days of py\n"
     ]
    }
   ],
   "source": [
    "# strip(): Removes all given characters starting from the beginning and end of the string\n",
    "\n",
    "challenge = 'thirty days of python'\n",
    "print(challenge.strip('noth'))"
   ]
  },
  {
   "cell_type": "code",
   "execution_count": 51,
   "id": "f6310e34",
   "metadata": {},
   "outputs": [
    {
     "name": "stdout",
     "output_type": "stream",
     "text": [
      "['thirty', 'days', 'of', 'python']\n",
      "['thirty days of python']\n"
     ]
    }
   ],
   "source": [
    "# replace(): Replaces substring with a given string\n",
    "\n",
    "challenge = 'thirty days of python'\n",
    "print(challenge.split())\n",
    "challenge = 'thirty days of python'\n",
    "print(challenge.split(', '))"
   ]
  },
  {
   "cell_type": "code",
   "execution_count": 52,
   "id": "7e10baf2",
   "metadata": {},
   "outputs": [
    {
     "name": "stdout",
     "output_type": "stream",
     "text": [
      "Thirty Days Of Python\n"
     ]
    }
   ],
   "source": [
    "# title(): Returns a title cased string\n",
    "challenge = 'thirty days of python'\n",
    "print(challenge.title())"
   ]
  },
  {
   "cell_type": "markdown",
   "id": "129e8039",
   "metadata": {},
   "source": [
    "# Exercises - Day 4"
   ]
  },
  {
   "cell_type": "code",
   "execution_count": 57,
   "id": "48d7278c",
   "metadata": {},
   "outputs": [
    {
     "name": "stdout",
     "output_type": "stream",
     "text": [
      "Thirty Days Of Python\n"
     ]
    }
   ],
   "source": [
    "challenge = 'Thirty', 'Days', 'Of', 'Python'\n",
    "result = ' '.join(challenge)\n",
    "print(result)\n"
   ]
  },
  {
   "cell_type": "code",
   "execution_count": 59,
   "id": "d4c5d5d9",
   "metadata": {},
   "outputs": [
    {
     "name": "stdout",
     "output_type": "stream",
     "text": [
      "Coding For All\n"
     ]
    }
   ],
   "source": [
    "challenge = 'Coding', 'For', 'All'\n",
    "result = ' '.join(challenge)\n",
    "print(result)"
   ]
  },
  {
   "cell_type": "code",
   "execution_count": null,
   "id": "e7fb5b18",
   "metadata": {},
   "outputs": [
    {
     "name": "stdout",
     "output_type": "stream",
     "text": [
      "Coding For All\n",
      "14\n"
     ]
    }
   ],
   "source": [
    "company = \"Coding For All\"\n",
    "print(company)\n",
    "print(len(company))"
   ]
  },
  {
   "cell_type": "code",
   "execution_count": 63,
   "id": "009b414a",
   "metadata": {},
   "outputs": [
    {
     "name": "stdout",
     "output_type": "stream",
     "text": [
      "CODING FOR ALL\n",
      "coding for all\n"
     ]
    }
   ],
   "source": [
    "print(company.upper())\n",
    "print(company.lower())"
   ]
  },
  {
   "cell_type": "code",
   "execution_count": 67,
   "id": "b9a88304",
   "metadata": {},
   "outputs": [
    {
     "name": "stdout",
     "output_type": "stream",
     "text": [
      "Coding for all\n",
      "Coding For All\n",
      "cODING fOR aLL\n"
     ]
    }
   ],
   "source": [
    "company = 'Coding For All'\n",
    "print(company.capitalize())\n",
    "print(company.title())\n",
    "print(company.swapcase())"
   ]
  },
  {
   "cell_type": "code",
   "execution_count": 68,
   "id": "5260b369",
   "metadata": {},
   "outputs": [
    {
     "name": "stdout",
     "output_type": "stream",
     "text": [
      " For All\n"
     ]
    }
   ],
   "source": [
    "company = 'Coding For All'\n",
    "print(company[6:])"
   ]
  },
  {
   "cell_type": "code",
   "execution_count": 75,
   "id": "d496a217",
   "metadata": {},
   "outputs": [
    {
     "name": "stdout",
     "output_type": "stream",
     "text": [
      "0\n"
     ]
    }
   ],
   "source": [
    "company = 'Coding For All'\n",
    "print(challenge.index('Coding'))"
   ]
  },
  {
   "cell_type": "code",
   "execution_count": 76,
   "id": "baa5f43f",
   "metadata": {},
   "outputs": [
    {
     "name": "stdout",
     "output_type": "stream",
     "text": [
      "0\n"
     ]
    }
   ],
   "source": [
    "company = 'Coding For All'\n",
    "print(company.find('Coding'))"
   ]
  },
  {
   "cell_type": "code",
   "execution_count": 78,
   "id": "20c2afa8",
   "metadata": {},
   "outputs": [
    {
     "name": "stdout",
     "output_type": "stream",
     "text": [
      "Python For All\n"
     ]
    }
   ],
   "source": [
    "company = 'Coding For All'\n",
    "print(company.replace('Coding', 'Python'))"
   ]
  },
  {
   "cell_type": "code",
   "execution_count": null,
   "id": "38fdc382",
   "metadata": {},
   "outputs": [],
   "source": [
    "company = 'Python for Everyone'\n",
    "print(company.replace('Everyone', 'All'))"
   ]
  }
 ],
 "metadata": {
  "kernelspec": {
   "display_name": "day_4",
   "language": "python",
   "name": "python3"
  },
  "language_info": {
   "codemirror_mode": {
    "name": "ipython",
    "version": 3
   },
   "file_extension": ".py",
   "mimetype": "text/x-python",
   "name": "python",
   "nbconvert_exporter": "python",
   "pygments_lexer": "ipython3",
   "version": "3.12.10"
  }
 },
 "nbformat": 4,
 "nbformat_minor": 5
}
