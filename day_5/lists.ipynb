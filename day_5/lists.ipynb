{
 "cells": [
  {
   "cell_type": "code",
   "execution_count": 1,
   "id": "bf65e38d",
   "metadata": {},
   "outputs": [],
   "source": [
    "# Declare an empty list\n",
    "\n",
    "lst = []"
   ]
  },
  {
   "cell_type": "code",
   "execution_count": 22,
   "id": "e2686897",
   "metadata": {},
   "outputs": [],
   "source": [
    "# Declare a list with more than 5 items\n",
    "\n",
    "cars = ['Ford', 'Toyota', 'Nissan', 'Volvo', 'Honda']"
   ]
  },
  {
   "cell_type": "code",
   "execution_count": 23,
   "id": "6182c75e",
   "metadata": {},
   "outputs": [
    {
     "name": "stdout",
     "output_type": "stream",
     "text": [
      "5\n"
     ]
    }
   ],
   "source": [
    "# Find the length of your list\n",
    "\n",
    "print(len(cars))\n",
    "\n"
   ]
  },
  {
   "cell_type": "code",
   "execution_count": 25,
   "id": "63197121",
   "metadata": {},
   "outputs": [
    {
     "name": "stdout",
     "output_type": "stream",
     "text": [
      "Ford\n",
      "Nissan\n",
      "Honda\n"
     ]
    }
   ],
   "source": [
    "# Get the first item, the middle item and the last item of the list\n",
    "\n",
    "first_car = cars[0]\n",
    "print(first_car)\n",
    "second_car = cars[2]\n",
    "print(second_car)\n",
    "third_car = cars[4]\n",
    "print(third_car)"
   ]
  },
  {
   "cell_type": "code",
   "execution_count": 26,
   "id": "111f51dd",
   "metadata": {},
   "outputs": [],
   "source": [
    "# Declare a list called mixed_data_types, put your(name, age, height, marital status, address)\n",
    "\n",
    "mixed_data_types = ['Rickard', 36, 177, 'relationship', 'Hammartorpsvägen']"
   ]
  },
  {
   "cell_type": "code",
   "execution_count": 27,
   "id": "f5e6973b",
   "metadata": {},
   "outputs": [],
   "source": [
    "# Declare a list variable named it_companies and assign initial values Facebook, Google, Microsoft, Apple, IBM, Oracle and Amazon.\n",
    "\n",
    "it_companies = ['Facebook', 'Google', 'Microsoft', 'Apple', 'IBM', 'Oracle', 'Amazon']"
   ]
  },
  {
   "cell_type": "code",
   "execution_count": 28,
   "id": "0115d60a",
   "metadata": {},
   "outputs": [
    {
     "name": "stdout",
     "output_type": "stream",
     "text": [
      "['Rickard', 36, 177, 'relationship', 'Hammartorpsvägen']\n"
     ]
    }
   ],
   "source": [
    "# Print the list using print()\n",
    "\n",
    "print(mixed_data_types)"
   ]
  },
  {
   "cell_type": "code",
   "execution_count": 29,
   "id": "9c60e6a3",
   "metadata": {},
   "outputs": [
    {
     "name": "stdout",
     "output_type": "stream",
     "text": [
      "['Facebook', 'Google', 'Microsoft', 'Apple', 'IBM', 'Oracle', 'Amazon']\n"
     ]
    }
   ],
   "source": [
    "print(it_companies)"
   ]
  },
  {
   "cell_type": "code",
   "execution_count": 30,
   "id": "bf319998",
   "metadata": {},
   "outputs": [
    {
     "name": "stdout",
     "output_type": "stream",
     "text": [
      "7\n"
     ]
    }
   ],
   "source": [
    "# Print the number of companies in the list\n",
    "\n",
    "print(len(it_companies))"
   ]
  },
  {
   "cell_type": "code",
   "execution_count": 38,
   "id": "850a3df3",
   "metadata": {},
   "outputs": [
    {
     "name": "stdout",
     "output_type": "stream",
     "text": [
      "Facebook Apple IBM\n"
     ]
    }
   ],
   "source": [
    "# Print the first, middle and last company\n",
    "first = it_companies[0]\n",
    "second = it_companies[len(it_companies)//2]\n",
    "third = it_companies[4]\n",
    "\n",
    "print(first, second, third)"
   ]
  },
  {
   "cell_type": "code",
   "execution_count": 40,
   "id": "2d209820",
   "metadata": {},
   "outputs": [
    {
     "name": "stdout",
     "output_type": "stream",
     "text": [
      "['Tesla', 'Google', 'Microsoft', 'Apple', 'IBM', 'Oracle', 'Amazon']\n"
     ]
    }
   ],
   "source": [
    "# Print the list after modifying one of the companies\n",
    "it_companies[0] = 'Tesla'\n",
    "print(it_companies)"
   ]
  },
  {
   "cell_type": "code",
   "execution_count": 41,
   "id": "45fc4d8c",
   "metadata": {},
   "outputs": [
    {
     "name": "stdout",
     "output_type": "stream",
     "text": [
      "['Tesla', 'Google', 'Microsoft', 'Apple', 'IBM', 'Oracle', 'Amazon', 'Applovin']\n"
     ]
    }
   ],
   "source": [
    "# Add an IT company to it_companies\n",
    "\n",
    "it_companies.append('Applovin')\n",
    "print(it_companies)"
   ]
  },
  {
   "cell_type": "code",
   "execution_count": 46,
   "id": "b8d5eafe",
   "metadata": {},
   "outputs": [
    {
     "name": "stdout",
     "output_type": "stream",
     "text": [
      "['Tesla', 'Google', 'Microsoft', 'Apple', 'Nvidia', 'Nvidia', 'IBM', 'Oracle', 'Amazon', 'Applovin']\n"
     ]
    }
   ],
   "source": [
    "# Insert an IT company in the middle of the companies list\n",
    "\n",
    "it_companies.insert(4, 'Nvidia')\n",
    "print(it_companies)"
   ]
  },
  {
   "cell_type": "code",
   "execution_count": 48,
   "id": "596a7d1c",
   "metadata": {},
   "outputs": [
    {
     "data": {
      "text/plain": [
       "'NVIDIA'"
      ]
     },
     "execution_count": 48,
     "metadata": {},
     "output_type": "execute_result"
    }
   ],
   "source": [
    "# Change one of the it_companies names to uppercase (IBM excluded!)\n",
    "\n",
    "it_companies[4].upper()"
   ]
  },
  {
   "cell_type": "code",
   "execution_count": 49,
   "id": "1353b7c4",
   "metadata": {},
   "outputs": [
    {
     "name": "stdout",
     "output_type": "stream",
     "text": [
      "Tesla#;  Google#;  Microsoft#;  Apple#;  Nvidia#;  Nvidia#;  IBM#;  Oracle#;  Amazon#;  Applovin\n"
     ]
    }
   ],
   "source": [
    "# Join the it_companies with a string '#;  '\n",
    "\n",
    "joined_companies = '#;  '.join(it_companies)\n",
    "print(joined_companies)\n"
   ]
  },
  {
   "cell_type": "code",
   "execution_count": 52,
   "id": "c7886cd5",
   "metadata": {},
   "outputs": [
    {
     "name": "stdout",
     "output_type": "stream",
     "text": [
      "True\n"
     ]
    }
   ],
   "source": [
    "# Check if a certain company exists in the it_companies list.\n",
    "\n",
    "if 'Tesla' in it_companies:\n",
    "    print(True)"
   ]
  },
  {
   "cell_type": "code",
   "execution_count": 59,
   "id": "025aa3d3",
   "metadata": {},
   "outputs": [
    {
     "name": "stdout",
     "output_type": "stream",
     "text": [
      "['Amazon', 'Apple', 'Applovin', 'Google', 'IBM', 'Microsoft', 'Nvidia', 'Nvidia', 'Oracle', 'Tesla']\n"
     ]
    }
   ],
   "source": [
    "# Sort the list using sort() method\n",
    "it_companies.sort()\n",
    "print(it_companies)"
   ]
  },
  {
   "cell_type": "code",
   "execution_count": 72,
   "id": "33d3d93e",
   "metadata": {},
   "outputs": [
    {
     "name": "stdout",
     "output_type": "stream",
     "text": [
      "['Tesla', 'Oracle', 'Nvidia', 'Nvidia', 'Microsoft', 'IBM', 'Google', 'Applovin', 'Apple', 'Amazon']\n"
     ]
    }
   ],
   "source": [
    "# Reverse the list in descending order using reverse() method\n",
    "it_companies.sort(reverse=True)\n",
    "print(it_companies)"
   ]
  },
  {
   "cell_type": "code",
   "execution_count": 74,
   "id": "71f46f7d",
   "metadata": {},
   "outputs": [
    {
     "data": {
      "text/plain": [
       "['Nvidia', 'Microsoft', 'IBM', 'Google', 'Applovin', 'Apple', 'Amazon']"
      ]
     },
     "execution_count": 74,
     "metadata": {},
     "output_type": "execute_result"
    }
   ],
   "source": [
    "# Slice out the first 3 companies from the list\n",
    "it_companies[3:]"
   ]
  },
  {
   "cell_type": "code",
   "execution_count": 81,
   "id": "dc7f6f3a",
   "metadata": {},
   "outputs": [
    {
     "data": {
      "text/plain": [
       "['Applovin', 'Apple', 'Amazon']"
      ]
     },
     "execution_count": 81,
     "metadata": {},
     "output_type": "execute_result"
    }
   ],
   "source": [
    "# Slice out the last 3 companies from the list\n",
    "it_companies[-3:]"
   ]
  },
  {
   "cell_type": "code",
   "execution_count": 100,
   "id": "3ba130a8",
   "metadata": {},
   "outputs": [
    {
     "name": "stdout",
     "output_type": "stream",
     "text": [
      "['Microsoft', 'IBM']\n"
     ]
    }
   ],
   "source": [
    "# Slice out the middle IT company or companies from the list\n",
    "n = len(it_companies)\n",
    "mid = n // 2\n",
    "\n",
    "if n % 2 == 0:\n",
    "    middle_companies = it_companies[mid-1:mid+1]\n",
    "else:\n",
    "    middle_companies = it_companies[mid:mid+1]\n",
    "\n",
    "print(middle_companies)"
   ]
  },
  {
   "cell_type": "code",
   "execution_count": 101,
   "id": "d54a5f72",
   "metadata": {},
   "outputs": [],
   "source": [
    "# Remove the first IT company from the list\n",
    "\n",
    "del it_companies[0]"
   ]
  },
  {
   "cell_type": "code",
   "execution_count": null,
   "id": "3476356f",
   "metadata": {},
   "outputs": [],
   "source": [
    "# Remove the middle IT company or companies from the list\n",
    "it_companies.remove('IBM')"
   ]
  },
  {
   "cell_type": "code",
   "execution_count": 111,
   "id": "53abbc35",
   "metadata": {},
   "outputs": [],
   "source": [
    "# Remove the last IT company from the list\n",
    "del it_companies[-1]"
   ]
  },
  {
   "cell_type": "code",
   "execution_count": null,
   "id": "041bb23b",
   "metadata": {},
   "outputs": [],
   "source": [
    "# Remove all IT companies from the list\n",
    "it_companies.clear()"
   ]
  },
  {
   "cell_type": "code",
   "execution_count": null,
   "id": "bf298e50",
   "metadata": {},
   "outputs": [],
   "source": [
    "# Destroy the IT companies list\n",
    "del it_companies\n"
   ]
  },
  {
   "cell_type": "code",
   "execution_count": 115,
   "id": "1f644a52",
   "metadata": {},
   "outputs": [],
   "source": [
    "# Join the following lists: \n",
    "front_end = ['HTML', 'CSS', 'JS', 'React', 'Redux']\n",
    "back_end = ['Node','Express', 'MongoDB']\n",
    "\n",
    "corporates = front_end + back_end"
   ]
  },
  {
   "cell_type": "code",
   "execution_count": 119,
   "id": "906d49ed",
   "metadata": {},
   "outputs": [],
   "source": [
    "# After joining the lists in question 26. Copy the joined list and assign it to a variable full_stack, then insert Python and SQL after Redux.\n",
    "full_stack = corporates\n",
    "\n",
    "full_stack.insert(5, 'Python')\n",
    "full_stack.insert(6, 'SQL')"
   ]
  },
  {
   "cell_type": "code",
   "execution_count": 122,
   "id": "19e723a9",
   "metadata": {},
   "outputs": [],
   "source": [
    "# The following is a list of 10 students ages:\n",
    "ages = [19, 22, 19, 24, 20, 25, 26, 24, 25, 24]"
   ]
  },
  {
   "cell_type": "markdown",
   "id": "4610fb4d",
   "metadata": {},
   "source": [
    "- Sort the list and find the min and max age\n",
    "- Add the min age and the max age again to the list\n",
    "- Find the median age (one middle item or two middle items divided by two)\n",
    "- Find the average age (sum of all items divided by their number )\n",
    "- Find the range of the ages (max minus min)\n",
    "- Compare the value of (min - average) and (max - average), use abs() method\n",
    "- Find the middle country(ies) in the countries list\n",
    "- Divide the countries list into two equal lists if it is even if not one more country for the first half.\n",
    "- ['China', 'Russia', 'USA', 'Finland', 'Sweden', 'Norway', 'Denmark']. Unpack the first three countries and the rest as scandic countries."
   ]
  },
  {
   "cell_type": "code",
   "execution_count": null,
   "id": "65b6ec33",
   "metadata": {},
   "outputs": [
    {
     "name": "stdout",
     "output_type": "stream",
     "text": [
      "23.125\n"
     ]
    },
    {
     "ename": "TypeError",
     "evalue": "unsupported operand type(s) for -: 'builtin_function_or_method' and 'int'",
     "output_type": "error",
     "traceback": [
      "\u001b[31m---------------------------------------------------------------------------\u001b[39m",
      "\u001b[31mTypeError\u001b[39m                                 Traceback (most recent call last)",
      "\u001b[36mCell\u001b[39m\u001b[36m \u001b[39m\u001b[32mIn[150]\u001b[39m\u001b[32m, line 3\u001b[39m\n\u001b[32m      1\u001b[39m average = \u001b[32m370\u001b[39m / \u001b[32m16\u001b[39m\n\u001b[32m      2\u001b[39m \u001b[38;5;28mprint\u001b[39m(average)\n\u001b[32m----> \u001b[39m\u001b[32m3\u001b[39m \u001b[38;5;28mprint\u001b[39m(\u001b[38;5;28;43mmax\u001b[39;49m\u001b[43m-\u001b[49m\u001b[38;5;28;43mmin\u001b[39;49m\u001b[43m(\u001b[49m\u001b[43mages\u001b[49m\u001b[43m)\u001b[49m)\n",
      "\u001b[31mTypeError\u001b[39m: unsupported operand type(s) for -: 'builtin_function_or_method' and 'int'"
     ]
    }
   ],
   "source": [
    "average = 370 / 16\n",
    "print(average)"
   ]
  },
  {
   "cell_type": "markdown",
   "id": "e9de25d6",
   "metadata": {},
   "source": []
  }
 ],
 "metadata": {
  "kernelspec": {
   "display_name": "day_5",
   "language": "python",
   "name": "python3"
  },
  "language_info": {
   "codemirror_mode": {
    "name": "ipython",
    "version": 3
   },
   "file_extension": ".py",
   "mimetype": "text/x-python",
   "name": "python",
   "nbconvert_exporter": "python",
   "pygments_lexer": "ipython3",
   "version": "3.12.10"
  }
 },
 "nbformat": 4,
 "nbformat_minor": 5
}
