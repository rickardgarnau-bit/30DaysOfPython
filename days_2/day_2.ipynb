{
 "cells": [
  {
   "cell_type": "markdown",
   "id": "0eafd765",
   "metadata": {},
   "source": [
    "# Dag 2:30 av pythonprogrammering"
   ]
  },
  {
   "cell_type": "code",
   "execution_count": 19,
   "id": "0ff6974f",
   "metadata": {},
   "outputs": [
    {
     "name": "stdout",
     "output_type": "stream",
     "text": [
      "['Bob Bild', 'Sweden', 'Stockholm', 55, 2045, False, True, False]\n"
     ]
    }
   ],
   "source": [
    "first_name = 'Bob'\n",
    "last_name = 'Bild'\n",
    "full_name = 'Bob Bild'\n",
    "country = 'Sweden'\n",
    "city = 'Stockholm'\n",
    "age = 55\n",
    "year = 2045\n",
    "is_married = False\n",
    "is_king = True\n",
    "is_light_on = False\n",
    "personal_info = [full_name, country, city, age, year, is_married, is_king, is_light_on]\n",
    "print(personal_info)"
   ]
  },
  {
   "cell_type": "code",
   "execution_count": 20,
   "id": "0c856856",
   "metadata": {},
   "outputs": [
    {
     "name": "stdout",
     "output_type": "stream",
     "text": [
      "<class 'str'>\n",
      "<class 'str'>\n",
      "<class 'str'>\n",
      "<class 'str'>\n",
      "<class 'str'>\n",
      "<class 'int'>\n",
      "<class 'int'>\n",
      "<class 'bool'>\n",
      "<class 'bool'>\n",
      "<class 'list'>\n"
     ]
    }
   ],
   "source": [
    "print(type(first_name))\n",
    "print(type(last_name))\n",
    "print(type(full_name))\n",
    "print(type(country))\n",
    "print(type(city))\n",
    "print(type(age))\n",
    "print(type(year))\n",
    "print(type(is_married))\n",
    "print(type(is_king))\n",
    "print(type(personal_info))\n"
   ]
  },
  {
   "cell_type": "code",
   "execution_count": null,
   "id": "05630135",
   "metadata": {},
   "outputs": [
    {
     "name": "stdout",
     "output_type": "stream",
     "text": [
      "3\n"
     ]
    }
   ],
   "source": [
    "print(len(first_name))"
   ]
  },
  {
   "cell_type": "code",
   "execution_count": 22,
   "id": "63957cb4",
   "metadata": {},
   "outputs": [
    {
     "name": "stdout",
     "output_type": "stream",
     "text": [
      "3\n",
      "4\n"
     ]
    }
   ],
   "source": [
    "print(len(first_name))\n",
    "print(len(last_name))"
   ]
  },
  {
   "cell_type": "code",
   "execution_count": 28,
   "id": "f1983272",
   "metadata": {},
   "outputs": [
    {
     "name": "stdout",
     "output_type": "stream",
     "text": [
      "1\n"
     ]
    }
   ],
   "source": [
    "num1 = 5\n",
    "num2 = 4\n",
    "diff = num1 - num2\n",
    "print(diff)"
   ]
  },
  {
   "cell_type": "code",
   "execution_count": 25,
   "id": "87b88603",
   "metadata": {},
   "outputs": [
    {
     "name": "stdout",
     "output_type": "stream",
     "text": [
      "20\n"
     ]
    }
   ],
   "source": [
    "sum = num1 * num2\n",
    "print(sum)"
   ]
  },
  {
   "cell_type": "code",
   "execution_count": 26,
   "id": "30f9cf8a",
   "metadata": {},
   "outputs": [
    {
     "name": "stdout",
     "output_type": "stream",
     "text": [
      "1.25\n"
     ]
    }
   ],
   "source": [
    "sum2 = num1 / num2\n",
    "print(sum2)"
   ]
  },
  {
   "cell_type": "code",
   "execution_count": 30,
   "id": "1d3d46c3",
   "metadata": {},
   "outputs": [
    {
     "name": "stdout",
     "output_type": "stream",
     "text": [
      "4\n"
     ]
    }
   ],
   "source": [
    "rest = num2 % num1\n",
    "print(rest)"
   ]
  },
  {
   "cell_type": "code",
   "execution_count": 31,
   "id": "bab2b3da",
   "metadata": {},
   "outputs": [
    {
     "name": "stdout",
     "output_type": "stream",
     "text": [
      "625\n"
     ]
    }
   ],
   "source": [
    "exp = num1**num2\n",
    "print(exp)"
   ]
  },
  {
   "cell_type": "code",
   "execution_count": 32,
   "id": "5003dae7",
   "metadata": {},
   "outputs": [
    {
     "name": "stdout",
     "output_type": "stream",
     "text": [
      "1\n"
     ]
    }
   ],
   "source": [
    "floor_division = num1 // num2\n",
    "print(floor_division)"
   ]
  },
  {
   "cell_type": "code",
   "execution_count": 41,
   "id": "dd45617f",
   "metadata": {},
   "outputs": [
    {
     "name": "stdout",
     "output_type": "stream",
     "text": [
      "2826.0\n"
     ]
    }
   ],
   "source": [
    "radius = 30\n",
    "area_of_circle = 3.14 * radius * radius\n",
    "print(area_of_circle)\n"
   ]
  },
  {
   "cell_type": "code",
   "execution_count": 42,
   "id": "359a12f7",
   "metadata": {},
   "outputs": [
    {
     "name": "stdout",
     "output_type": "stream",
     "text": [
      "188.4\n"
     ]
    }
   ],
   "source": [
    "circum_of_circle = 2 * 3.14 * radius\n",
    "print(circum_of_circle)"
   ]
  },
  {
   "cell_type": "code",
   "execution_count": 43,
   "id": "85a4e144",
   "metadata": {},
   "outputs": [
    {
     "name": "stdout",
     "output_type": "stream",
     "text": [
      "The area of the circel is:  13266.5\n"
     ]
    }
   ],
   "source": [
    "radius = float(input(\"How large is the radius? \"))\n",
    "print(\"The area of the circel is: \", 3.14 * radius * radius )"
   ]
  },
  {
   "cell_type": "code",
   "execution_count": 44,
   "id": "2b0a90da",
   "metadata": {},
   "outputs": [
    {
     "name": "stdout",
     "output_type": "stream",
     "text": [
      "['Bob', 'Bobb', 'Greece', '2345']\n"
     ]
    }
   ],
   "source": [
    "first_name = (input(\"What's your firstname? \"))\n",
    "last_name = (input(\"What's your lastname? \"))\n",
    "country = (input(\"Where are you from? \"))\n",
    "age = (input(\"How old are you? \"))\n",
    "\n",
    "personal_info = [first_name, last_name, country, age]\n",
    "print(personal_info)"
   ]
  },
  {
   "cell_type": "code",
   "execution_count": null,
   "id": "27c85885",
   "metadata": {},
   "outputs": [
    {
     "name": "stdout",
     "output_type": "stream",
     "text": [
      "Welcome to Python 3.12's help utility! If this is your first time using\n",
      "Python, you should definitely check out the tutorial at\n",
      "https://docs.python.org/3.12/tutorial/.\n",
      "\n",
      "Enter the name of any module, keyword, or topic to get help on writing\n",
      "Python programs and using Python modules.  To get a list of available\n",
      "modules, keywords, symbols, or topics, enter \"modules\", \"keywords\",\n",
      "\"symbols\", or \"topics\".\n",
      "\n",
      "Each module also comes with a one-line summary of what it does; to list\n",
      "the modules whose name or summary contain a given string such as \"spam\",\n",
      "enter \"modules spam\".\n",
      "\n",
      "To quit this help utility and return to the interpreter,\n",
      "enter \"q\" or \"quit\".\n",
      "\n",
      "No Python documentation found for 'age'.\n",
      "Use help() to get the interactive help utility.\n",
      "Use help(str) for help on the str class.\n",
      "\n"
     ]
    }
   ],
   "source": [
    "help(str)"
   ]
  }
 ],
 "metadata": {
  "kernelspec": {
   "display_name": "days_2",
   "language": "python",
   "name": "python3"
  },
  "language_info": {
   "codemirror_mode": {
    "name": "ipython",
    "version": 3
   },
   "file_extension": ".py",
   "mimetype": "text/x-python",
   "name": "python",
   "nbconvert_exporter": "python",
   "pygments_lexer": "ipython3",
   "version": "3.12.10"
  }
 },
 "nbformat": 4,
 "nbformat_minor": 5
}
